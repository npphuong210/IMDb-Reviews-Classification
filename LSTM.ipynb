{
 "cells": [
  {
   "cell_type": "code",
   "execution_count": 8,
   "id": "7ec4f5d6",
   "metadata": {},
   "outputs": [
    {
     "name": "stdout",
     "output_type": "stream",
     "text": [
      "WARNING:tensorflow:From C:\\ProgramData\\anaconda3\\Lib\\site-packages\\keras\\src\\losses.py:2976: The name tf.losses.sparse_softmax_cross_entropy is deprecated. Please use tf.compat.v1.losses.sparse_softmax_cross_entropy instead.\n",
      "\n"
     ]
    }
   ],
   "source": [
    "import pandas as pd\n",
    "import tensorflow as tf\n",
    "import pandas as pd\n",
    "from tensorflow.keras.preprocessing.text import Tokenizer\n",
    "from tensorflow.keras.preprocessing.sequence import pad_sequences\n",
    "from tensorflow.keras.models import Sequential\n",
    "from tensorflow.keras.layers import Embedding, LSTM, Dense, Dropout\n",
    "from sklearn.model_selection import train_test_split\n",
    "from sklearn.preprocessing import MultiLabelBinarizer\n",
    "from keras.regularizers import l2"
   ]
  },
  {
   "cell_type": "code",
   "execution_count": 4,
   "id": "a255fc5a",
   "metadata": {},
   "outputs": [],
   "source": [
    "df= pd.read_csv('/data/imdb_reviews_preprocessing18k.csv')"
   ]
  },
  {
   "cell_type": "code",
   "execution_count": 5,
   "id": "1749edc7",
   "metadata": {},
   "outputs": [
    {
     "data": {
      "text/html": [
       "<div>\n",
       "<style scoped>\n",
       "    .dataframe tbody tr th:only-of-type {\n",
       "        vertical-align: middle;\n",
       "    }\n",
       "\n",
       "    .dataframe tbody tr th {\n",
       "        vertical-align: top;\n",
       "    }\n",
       "\n",
       "    .dataframe thead th {\n",
       "        text-align: right;\n",
       "    }\n",
       "</style>\n",
       "<table border=\"1\" class=\"dataframe\">\n",
       "  <thead>\n",
       "    <tr style=\"text-align: right;\">\n",
       "      <th></th>\n",
       "      <th>review</th>\n",
       "      <th>label</th>\n",
       "      <th>rating</th>\n",
       "      <th>word_counts</th>\n",
       "      <th>preprocessed_review</th>\n",
       "    </tr>\n",
       "  </thead>\n",
       "  <tbody>\n",
       "    <tr>\n",
       "      <th>0</th>\n",
       "      <td>Although Humphrey Bogart got star billing in K...</td>\n",
       "      <td>0</td>\n",
       "      <td>3</td>\n",
       "      <td>325</td>\n",
       "      <td>although humphrey bogart got star billing king...</td>\n",
       "    </tr>\n",
       "    <tr>\n",
       "      <th>1</th>\n",
       "      <td>I probably give this more credit than it deser...</td>\n",
       "      <td>0</td>\n",
       "      <td>2</td>\n",
       "      <td>492</td>\n",
       "      <td>probably give credit deserves halloween knott ...</td>\n",
       "    </tr>\n",
       "    <tr>\n",
       "      <th>2</th>\n",
       "      <td>Something to Sing About was produced at Grand ...</td>\n",
       "      <td>0</td>\n",
       "      <td>4</td>\n",
       "      <td>386</td>\n",
       "      <td>something sing produced grand national studio ...</td>\n",
       "    </tr>\n",
       "    <tr>\n",
       "      <th>3</th>\n",
       "      <td>This film is strictly for fans of Debbie Reyno...</td>\n",
       "      <td>0</td>\n",
       "      <td>3</td>\n",
       "      <td>436</td>\n",
       "      <td>film strictly fan debbie reynolds eddie fisher...</td>\n",
       "    </tr>\n",
       "    <tr>\n",
       "      <th>4</th>\n",
       "      <td>I went to this movie expecting a concise movie...</td>\n",
       "      <td>0</td>\n",
       "      <td>2</td>\n",
       "      <td>103</td>\n",
       "      <td>went movie expecting concise movie relating ef...</td>\n",
       "    </tr>\n",
       "  </tbody>\n",
       "</table>\n",
       "</div>"
      ],
      "text/plain": [
       "                                              review  label  rating  \\\n",
       "0  Although Humphrey Bogart got star billing in K...      0       3   \n",
       "1  I probably give this more credit than it deser...      0       2   \n",
       "2  Something to Sing About was produced at Grand ...      0       4   \n",
       "3  This film is strictly for fans of Debbie Reyno...      0       3   \n",
       "4  I went to this movie expecting a concise movie...      0       2   \n",
       "\n",
       "   word_counts                                preprocessed_review  \n",
       "0          325  although humphrey bogart got star billing king...  \n",
       "1          492  probably give credit deserves halloween knott ...  \n",
       "2          386  something sing produced grand national studio ...  \n",
       "3          436  film strictly fan debbie reynolds eddie fisher...  \n",
       "4          103  went movie expecting concise movie relating ef...  "
      ]
     },
     "execution_count": 5,
     "metadata": {},
     "output_type": "execute_result"
    }
   ],
   "source": [
    "df.head()"
   ]
  },
  {
   "cell_type": "code",
   "execution_count": 11,
   "id": "5f84fa57",
   "metadata": {},
   "outputs": [],
   "source": [
    "# Loại bỏ các giá trị NaN hoặc không phải chuỗi từ cột 'preprocessed_review'\n",
    "df = df.dropna(subset=['preprocessed_review'])\n",
    "df = df[df['preprocessed_review'].apply(lambda x: isinstance(x, str))]"
   ]
  },
  {
   "cell_type": "code",
   "execution_count": 33,
   "id": "58471d6f",
   "metadata": {},
   "outputs": [
    {
     "data": {
      "text/html": [
       "<div>\n",
       "<style scoped>\n",
       "    .dataframe tbody tr th:only-of-type {\n",
       "        vertical-align: middle;\n",
       "    }\n",
       "\n",
       "    .dataframe tbody tr th {\n",
       "        vertical-align: top;\n",
       "    }\n",
       "\n",
       "    .dataframe thead th {\n",
       "        text-align: right;\n",
       "    }\n",
       "</style>\n",
       "<table border=\"1\" class=\"dataframe\">\n",
       "  <thead>\n",
       "    <tr style=\"text-align: right;\">\n",
       "      <th></th>\n",
       "      <th>label</th>\n",
       "      <th>rating</th>\n",
       "      <th>word_counts</th>\n",
       "    </tr>\n",
       "  </thead>\n",
       "  <tbody>\n",
       "    <tr>\n",
       "      <th>count</th>\n",
       "      <td>18496.000000</td>\n",
       "      <td>18496.000000</td>\n",
       "      <td>18496.000000</td>\n",
       "    </tr>\n",
       "    <tr>\n",
       "      <th>mean</th>\n",
       "      <td>1.189230</td>\n",
       "      <td>5.538279</td>\n",
       "      <td>220.883164</td>\n",
       "    </tr>\n",
       "    <tr>\n",
       "      <th>std</th>\n",
       "      <td>0.833007</td>\n",
       "      <td>2.585263</td>\n",
       "      <td>178.268699</td>\n",
       "    </tr>\n",
       "    <tr>\n",
       "      <th>min</th>\n",
       "      <td>0.000000</td>\n",
       "      <td>1.000000</td>\n",
       "      <td>1.000000</td>\n",
       "    </tr>\n",
       "    <tr>\n",
       "      <th>25%</th>\n",
       "      <td>0.000000</td>\n",
       "      <td>4.000000</td>\n",
       "      <td>114.000000</td>\n",
       "    </tr>\n",
       "    <tr>\n",
       "      <th>50%</th>\n",
       "      <td>1.000000</td>\n",
       "      <td>6.000000</td>\n",
       "      <td>166.000000</td>\n",
       "    </tr>\n",
       "    <tr>\n",
       "      <th>75%</th>\n",
       "      <td>2.000000</td>\n",
       "      <td>7.000000</td>\n",
       "      <td>277.000000</td>\n",
       "    </tr>\n",
       "    <tr>\n",
       "      <th>max</th>\n",
       "      <td>2.000000</td>\n",
       "      <td>10.000000</td>\n",
       "      <td>1714.000000</td>\n",
       "    </tr>\n",
       "  </tbody>\n",
       "</table>\n",
       "</div>"
      ],
      "text/plain": [
       "              label        rating   word_counts\n",
       "count  18496.000000  18496.000000  18496.000000\n",
       "mean       1.189230      5.538279    220.883164\n",
       "std        0.833007      2.585263    178.268699\n",
       "min        0.000000      1.000000      1.000000\n",
       "25%        0.000000      4.000000    114.000000\n",
       "50%        1.000000      6.000000    166.000000\n",
       "75%        2.000000      7.000000    277.000000\n",
       "max        2.000000     10.000000   1714.000000"
      ]
     },
     "execution_count": 33,
     "metadata": {},
     "output_type": "execute_result"
    }
   ],
   "source": [
    "df.describe()"
   ]
  },
  {
   "cell_type": "code",
   "execution_count": 28,
   "id": "1eb93f3f",
   "metadata": {},
   "outputs": [
    {
     "data": {
      "text/plain": [
       "(18496, 5)"
      ]
     },
     "execution_count": 28,
     "metadata": {},
     "output_type": "execute_result"
    }
   ],
   "source": [
    "df.shape"
   ]
  },
  {
   "cell_type": "code",
   "execution_count": 12,
   "id": "7c950e67",
   "metadata": {},
   "outputs": [
    {
     "name": "stderr",
     "output_type": "stream",
     "text": [
      "IOPub data rate exceeded.\n",
      "The notebook server will temporarily stop sending output\n",
      "to the client in order to avoid crashing it.\n",
      "To change this limit, set the config variable\n",
      "`--NotebookApp.iopub_data_rate_limit`.\n",
      "\n",
      "Current values:\n",
      "NotebookApp.iopub_data_rate_limit=1000000.0 (bytes/sec)\n",
      "NotebookApp.rate_limit_window=3.0 (secs)\n",
      "\n"
     ]
    }
   ],
   "source": [
    "# Tạo một đối tượng Tokenizer\n",
    "tokenizer = Tokenizer()\n",
    "tokenizer.fit_on_texts(df['preprocessed_review'])\n",
    "\n",
    "# Chuyển đổi văn bản thành các chỉ số\n",
    "sequences = tokenizer.texts_to_sequences(df['preprocessed_review'])\n",
    "print(sequences)"
   ]
  },
  {
   "cell_type": "code",
   "execution_count": 13,
   "id": "cd90cf29",
   "metadata": {},
   "outputs": [],
   "source": [
    "vocab_size = len(tokenizer.word_index) + 1"
   ]
  },
  {
   "cell_type": "code",
   "execution_count": 14,
   "id": "d6ddd042",
   "metadata": {},
   "outputs": [],
   "source": [
    "from tensorflow.keras.preprocessing.sequence import pad_sequences\n",
    "max_length = 250\n",
    "padded_sequences = pad_sequences(sequences, maxlen=max_length, padding='post')"
   ]
  },
  {
   "cell_type": "code",
   "execution_count": 15,
   "id": "cb1477fe",
   "metadata": {},
   "outputs": [],
   "source": [
    "from tensorflow.keras.callbacks import EarlyStopping\n",
    "# Khởi tạo EarlyStopping\n",
    "early_stopping = EarlyStopping(monitor='val_loss', patience=5, restore_best_weights=True)"
   ]
  },
  {
   "cell_type": "code",
   "execution_count": 35,
   "id": "52303f9c",
   "metadata": {},
   "outputs": [
    {
     "name": "stdout",
     "output_type": "stream",
     "text": [
      "Số lượng lớp train chưa áp dụng SMOTE:\n",
      "label\n",
      "2    6798\n",
      "1    4000\n",
      "0    3998\n",
      "Name: count, dtype: int64\n",
      "Số lượng lớp train sau khi áp dụng SMOTE:\n",
      "label\n",
      "2    6798\n",
      "1    6798\n",
      "0    6798\n",
      "Name: count, dtype: int64\n"
     ]
    }
   ],
   "source": [
    "# Chuẩn bị dữ liệu đầu vào cho mô hình\n",
    "X_train, X_test, y_train, y_test = train_test_split(padded_sequences, df['label'], stratify = df['label'],test_size=0.2, random_state=42)\n",
    "from imblearn.over_sampling import SMOTE\n",
    "\n",
    "# Khởi tạo SMOTE\n",
    "smote = SMOTE(random_state=42)\n",
    "\n",
    "# Áp dụng SMOTE cho dữ liệu huấn luyện\n",
    "X_train_smote, y_train_smote = smote.fit_resample(X_train, y_train)\n",
    "\n",
    "# Hiển thị số lượng lớp sau khi áp dụng SMOTE\n",
    "print(\"Số lượng lớp train chưa áp dụng SMOTE:\")\n",
    "print(y_train.value_counts())\n",
    "print(\"Số lượng lớp train sau khi áp dụng SMOTE:\")\n",
    "print(y_train_smote.value_counts())"
   ]
  },
  {
   "cell_type": "code",
   "execution_count": 23,
   "id": "f2f69789",
   "metadata": {},
   "outputs": [],
   "source": [
    "# Xây dựng mô hình\n",
    "vocab_size = len(tokenizer.word_index) + 1\n",
    "embedding_dim = 150\n",
    "model2 = Sequential()\n",
    "model2.add(Embedding(input_dim=vocab_size, output_dim=embedding_dim, input_length=max_length))\n",
    "model2.add(LSTM(units=64, return_sequences=True))\n",
    "model2.add(Dropout(0.5))\n",
    "model2.add(LSTM(units=32))\n",
    "model2.add(Dense(units=3, activation='softmax'))\n",
    "\n",
    "# Biên soạn mô hình\n",
    "model2.compile(optimizer='adam', loss='sparse_categorical_crossentropy', metrics=['accuracy'])"
   ]
  },
  {
   "cell_type": "code",
   "execution_count": 24,
   "id": "0a1afbea",
   "metadata": {},
   "outputs": [
    {
     "name": "stdout",
     "output_type": "stream",
     "text": [
      "Epoch 1/50\n",
      "463/463 [==============================] - 54s 112ms/step - loss: 1.0669 - accuracy: 0.4588 - val_loss: 1.0605 - val_accuracy: 0.4595\n",
      "Epoch 2/50\n",
      "463/463 [==============================] - 51s 111ms/step - loss: 1.0364 - accuracy: 0.4754 - val_loss: 1.0603 - val_accuracy: 0.4581\n",
      "Epoch 3/50\n",
      "463/463 [==============================] - 51s 111ms/step - loss: 0.9868 - accuracy: 0.5018 - val_loss: 1.1089 - val_accuracy: 0.4649\n",
      "Epoch 4/50\n",
      "463/463 [==============================] - 52s 112ms/step - loss: 0.9679 - accuracy: 0.5079 - val_loss: 1.1146 - val_accuracy: 0.4624\n",
      "Epoch 5/50\n",
      "463/463 [==============================] - 51s 110ms/step - loss: 0.9617 - accuracy: 0.5102 - val_loss: 1.1817 - val_accuracy: 0.4530\n",
      "Epoch 6/50\n",
      "463/463 [==============================] - 50s 109ms/step - loss: 0.9500 - accuracy: 0.5153 - val_loss: 1.1001 - val_accuracy: 0.4651\n",
      "Epoch 7/50\n",
      "463/463 [==============================] - 51s 110ms/step - loss: 0.8938 - accuracy: 0.5730 - val_loss: 1.0248 - val_accuracy: 0.5616\n",
      "Epoch 8/50\n",
      "463/463 [==============================] - 51s 110ms/step - loss: 0.7788 - accuracy: 0.6813 - val_loss: 0.9363 - val_accuracy: 0.6184\n",
      "Epoch 9/50\n",
      "463/463 [==============================] - 51s 110ms/step - loss: 0.6391 - accuracy: 0.7541 - val_loss: 0.8801 - val_accuracy: 0.6497\n",
      "Epoch 10/50\n",
      "463/463 [==============================] - 51s 110ms/step - loss: 0.4912 - accuracy: 0.8256 - val_loss: 0.8471 - val_accuracy: 0.6686\n",
      "Epoch 11/50\n",
      "463/463 [==============================] - 52s 112ms/step - loss: 0.3760 - accuracy: 0.8762 - val_loss: 0.8757 - val_accuracy: 0.6741\n",
      "Epoch 12/50\n",
      "463/463 [==============================] - 51s 111ms/step - loss: 0.2752 - accuracy: 0.9157 - val_loss: 1.0087 - val_accuracy: 0.6781\n",
      "Epoch 13/50\n",
      "463/463 [==============================] - 51s 110ms/step - loss: 0.2095 - accuracy: 0.9373 - val_loss: 0.9978 - val_accuracy: 0.6605\n",
      "Epoch 14/50\n",
      "463/463 [==============================] - 50s 109ms/step - loss: 0.1591 - accuracy: 0.9563 - val_loss: 1.2389 - val_accuracy: 0.6527\n",
      "Epoch 15/50\n",
      "463/463 [==============================] - 51s 109ms/step - loss: 0.1364 - accuracy: 0.9655 - val_loss: 1.2316 - val_accuracy: 0.6719\n"
     ]
    }
   ],
   "source": [
    "history = model2.fit(X_train, y_train, epochs=50, batch_size=32, validation_data=(X_test, y_test) , callbacks=[early_stopping])"
   ]
  },
  {
   "cell_type": "code",
   "execution_count": 25,
   "id": "009370b5",
   "metadata": {},
   "outputs": [
    {
     "name": "stdout",
     "output_type": "stream",
     "text": [
      "116/116 [==============================] - 2s 19ms/step - loss: 0.8471 - accuracy: 0.6686\n",
      "Test Loss: 0.8471142649650574\n",
      "Test Accuracy: 0.6686486601829529\n"
     ]
    }
   ],
   "source": [
    "test_loss, test_accuracy = model2.evaluate(X_test, y_test)\n",
    "print('Test Loss:', test_loss)\n",
    "print('Test Accuracy:', test_accuracy)"
   ]
  },
  {
   "cell_type": "code",
   "execution_count": 37,
   "id": "4bea6d86",
   "metadata": {
    "scrolled": true
   },
   "outputs": [
    {
     "name": "stdout",
     "output_type": "stream",
     "text": [
      "116/116 [==============================] - 2s 19ms/step\n",
      "116/116 [==============================] - 2s 19ms/step - loss: 0.8471 - accuracy: 0.6686\n",
      "Loss: 0.8471142649650574\n",
      "Accuracy: 0.6686486601829529\n",
      "              precision    recall  f1-score   support\n",
      "\n",
      "           0       0.66      0.60      0.63      1000\n",
      "           1       0.63      0.63      0.63      1000\n",
      "           2       0.70      0.73      0.71      1700\n",
      "\n",
      "    accuracy                           0.67      3700\n",
      "   macro avg       0.66      0.65      0.66      3700\n",
      "weighted avg       0.67      0.67      0.67      3700\n",
      "\n"
     ]
    }
   ],
   "source": [
    "from sklearn.metrics import classification_report\n",
    "import numpy as np\n",
    "\n",
    "# Dự đoán nhãn cho dữ liệu kiểm tra\n",
    "y_pred = model2.predict(X_test)\n",
    "y_pred_classes = np.argmax(y_pred, axis=1)\n",
    "\n",
    "# In classification report\n",
    "test_loss, test_accuracy = model2.evaluate(X_test, y_test)\n",
    "print('Loss:', test_loss)\n",
    "print('Accuracy:', test_accuracy)\n",
    "print(classification_report(y_test, y_pred_classes))"
   ]
  },
  {
   "cell_type": "code",
   "execution_count": 27,
   "id": "ff518107",
   "metadata": {},
   "outputs": [
    {
     "name": "stdout",
     "output_type": "stream",
     "text": [
      "Confusion Matrix:\n",
      "[[ 600  123  277]\n",
      " [ 100  634  266]\n",
      " [ 208  252 1240]]\n"
     ]
    },
    {
     "data": {
      "image/png": "[encoded data removed]",
      "text/plain": [
       "<Figure size 800x600 with 1 Axes>"
      ]
     },
     "metadata": {},
     "output_type": "display_data"
    }
   ],
   "source": [
    "from sklearn.metrics import confusion_matrix\n",
    "\n",
    "# Tính confusion matrix\n",
    "conf_matrix = confusion_matrix(y_test, y_pred_classes)\n",
    "\n",
    "# In ra confusion matrix\n",
    "print(\"Confusion Matrix:\")\n",
    "print(conf_matrix)\n",
    "\n",
    "import matplotlib.pyplot as plt\n",
    "import seaborn as sns\n",
    "\n",
    "# Tạo biểu đồ heatmap từ confusion matrix\n",
    "plt.figure(figsize=(8, 6))\n",
    "sns.heatmap(conf_matrix, annot=True, fmt='d', cmap='Blues', cbar=False)\n",
    "plt.xlabel('Predicted Labels')\n",
    "plt.ylabel('True Labels')\n",
    "plt.title('Confusion Matrix')\n",
    "plt.show()"
   ]
  }
 ],
 "metadata": {
  "kernelspec": {
   "display_name": "Python 3 (ipykernel)",
   "language": "python",
   "name": "python3"
  },
  "language_info": {
   "codemirror_mode": {
    "name": "ipython",
    "version": 3
   },
   "file_extension": ".py",
   "mimetype": "text/x-python",
   "name": "python",
   "nbconvert_exporter": "python",
   "pygments_lexer": "ipython3",
   "version": "3.11.5"
  }
 },
 "nbformat": 4,
 "nbformat_minor": 5
}
